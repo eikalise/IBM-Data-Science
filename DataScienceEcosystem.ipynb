{
 "cells": [
  {
   "cell_type": "markdown",
   "id": "07765a90-5846-415d-bcc8-40db76519448",
   "metadata": {},
   "source": [
    "# Data Science Tools and Ecosystem"
   ]
  },
  {
   "cell_type": "markdown",
   "id": "cd86f3da-908d-4813-8e4e-06601d346d2d",
   "metadata": {},
   "source": [
    "In this notebook, Data Science Tools and Ecosystem are summarized."
   ]
  },
  {
   "cell_type": "markdown",
   "id": "67bb7d62-6e42-4240-8f15-4854377815e8",
   "metadata": {},
   "source": [
    "Some of the popular languages that Data Scientists use are:\n",
    "1. Python\n",
    "2. SQL\n",
    "3. R\n",
    "\n"
   ]
  },
  {
   "cell_type": "markdown",
   "id": "5f408aa1-dd7d-4f23-967a-64045865246f",
   "metadata": {},
   "source": [
    "Some of the commonly used libraries used by Data Scientists include:\n",
    "1. Pandas\n",
    "2. Numpy\n",
    "4. Matplotlib\n",
    "\n",
    "| Data Science Tools |\n",
    "| --- | \n",
    "| RStudio |\n",
    "| Jupyter Notebook |\n",
    "| Jupyter Lan |"
   ]
  },
  {
   "cell_type": "markdown",
   "id": "4714b0f9-2018-40e4-81fb-9fe4b2cf7fcf",
   "metadata": {},
   "source": [
    "### Below are a few examples of evaluating arithmetic expressions in Python"
   ]
  },
  {
   "cell_type": "code",
   "execution_count": 6,
   "id": "244175ff-48e2-4474-852d-24631e011ccc",
   "metadata": {},
   "outputs": [
    {
     "name": "stdout",
     "output_type": "stream",
     "text": [
      "17\n"
     ]
    }
   ],
   "source": [
    "a=(3*4)+5\n",
    "print(a)\n",
    "#This a simple arithmetic expression to mutiply then add integers."
   ]
  },
  {
   "cell_type": "code",
   "execution_count": 8,
   "id": "3fe52d2e-473e-45b5-9e88-421f062cd0c6",
   "metadata": {},
   "outputs": [
    {
     "name": "stdout",
     "output_type": "stream",
     "text": [
      "3.3333333333333335\n"
     ]
    }
   ],
   "source": [
    "min = 200\n",
    "conv= min/60\n",
    "print(conv)\n",
    "#This will convert 200 minutes to hours by diving by 60"
   ]
  },
  {
   "cell_type": "markdown",
   "id": "6a2df568-7b7a-4338-8b61-0fbc9fb08de3",
   "metadata": {},
   "source": [
    "Objectives:\n",
    "- List popular languages for Data Science\n",
    "- List commonly used libraries by Data Scientists\n",
    "- List commonly used Data science tools"
   ]
  },
  {
   "cell_type": "markdown",
   "id": "ea2adc1f-fb7e-48fa-9727-db2f68de5773",
   "metadata": {},
   "source": [
    "## Author\n",
    "Alise Chavanapanit"
   ]
  },
  {
   "cell_type": "code",
   "execution_count": null,
   "id": "ad6ce7c6-c2b3-4825-a169-973a0236eb0e",
   "metadata": {},
   "outputs": [],
   "source": []
  }
 ],
 "metadata": {
  "kernelspec": {
   "display_name": "Python 3 (ipykernel)",
   "language": "python",
   "name": "python3"
  },
  "language_info": {
   "codemirror_mode": {
    "name": "ipython",
    "version": 3
   },
   "file_extension": ".py",
   "mimetype": "text/x-python",
   "name": "python",
   "nbconvert_exporter": "python",
   "pygments_lexer": "ipython3",
   "version": "3.12.2"
  }
 },
 "nbformat": 4,
 "nbformat_minor": 5
}
